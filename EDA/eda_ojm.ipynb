{
 "cells": [
  {
   "cell_type": "markdown",
   "metadata": {},
   "source": [
    "# EDA : Brazilian E-Commerce Public Dataset"
   ]
  },
  {
   "cell_type": "markdown",
   "metadata": {},
   "source": [
    "---"
   ]
  },
  {
   "cell_type": "markdown",
   "metadata": {},
   "source": [
    "### 1. 데이터 전처리"
   ]
  },
  {
   "cell_type": "code",
   "execution_count": 1,
   "metadata": {},
   "outputs": [],
   "source": [
    "### 데이터 조인을 통한 다수 데이터셋 통합 진행 \n",
    "### 아래 SQL 쿼리문 참고, order_id는 중복 허용됨, order_status에서 cancel된 주문은 제외\n",
    "\n",
    "# create or replace view order_info as\n",
    "# select a.order_id,\n",
    "# \tb.customer_id,\n",
    "#   d.customer_unique_id,\n",
    "# \td.customer_city,\n",
    "# \td.customer_state,\n",
    "# \td.customer_zip_code_prefix as customer_zipcode,\n",
    "# \tc.product_category_name_english as category,\n",
    "# \tb.order_status,\n",
    "# \tb.order_purchase_timestamp as purchase_date,\n",
    "# \tb.order_estimated_delivery_date as estimated_delivery_date,\n",
    "# \tdatediff(b.order_estimated_delivery_date, b.order_purchase_timestamp) as estimated_delivery_period,\n",
    "# \ta.price + a.freight_value as total_price\n",
    "# from olist_order_items_dataset a\n",
    "# left join olist_orders_dataset b on a.order_id = b.order_id\n",
    "# left join product_dataset c on a.product_id = c.product_id\n",
    "# left join olist_customers_dataset d on b.customer_id = d.customer_id\n",
    "# having b.order_status != 'canceled';"
   ]
  },
  {
   "cell_type": "code",
   "execution_count": 2,
   "metadata": {},
   "outputs": [
    {
     "name": "stdout",
     "output_type": "stream",
     "text": [
      "<class 'pandas.core.frame.DataFrame'>\n",
      "RangeIndex: 112108 entries, 0 to 112107\n",
      "Data columns (total 12 columns):\n",
      " #   Column                     Non-Null Count   Dtype         \n",
      "---  ------                     --------------   -----         \n",
      " 0   order_id                   112108 non-null  object        \n",
      " 1   customer_id                112108 non-null  object        \n",
      " 2   customer_unique_id         112108 non-null  object        \n",
      " 3   customer_city              112108 non-null  object        \n",
      " 4   customer_state             112108 non-null  object        \n",
      " 5   customer_zipcode           112108 non-null  int64         \n",
      " 6   category                   110497 non-null  object        \n",
      " 7   order_status               112108 non-null  object        \n",
      " 8   purchase_date              112108 non-null  datetime64[ns]\n",
      " 9   estimated_delivery_date    112108 non-null  datetime64[ns]\n",
      " 10  estimated_delivery_period  112108 non-null  int64         \n",
      " 11  total_price                112108 non-null  float64       \n",
      "dtypes: datetime64[ns](2), float64(1), int64(2), object(7)\n",
      "memory usage: 10.3+ MB\n"
     ]
    }
   ],
   "source": [
    "import mysql.connector\n",
    "import pandas as pd\n",
    "import plotly_express as px\n",
    "from datetime import datetime, timedelta\n",
    "\n",
    "# mysql 데이터베이스 연결\n",
    "conn = mysql.connector.connect(\n",
    "    host = \"localhost\",\n",
    "    user = \"root\",\n",
    "    password = \"cx@1076044150\",\n",
    "    database = \"olist\"\n",
    ")\n",
    "cursor = conn.cursor(buffered=True)\n",
    "\n",
    "\n",
    "# 쿼리한 데이터셋 불러오기\n",
    "sql = 'select * from order_info'\n",
    "cursor.execute(sql)\n",
    "result = cursor.fetchall()\n",
    "columns = [col[0] for col in cursor.description]\n",
    "df = pd.DataFrame(data=result, columns=columns)\n",
    "df.info()"
   ]
  },
  {
   "cell_type": "markdown",
   "metadata": {},
   "source": [
    "---"
   ]
  },
  {
   "cell_type": "markdown",
   "metadata": {},
   "source": [
    "### 2. 재구매 고객 및 상품 카테고리 분석\n",
    "- 재구매 기준 : olist몰의 판매제품의 사용연수가 다양한 종합몰이므로, 최초 구매 시기로부터 1년을 유효기간으로 가정하여 재구매를 정의\n",
    "- 고객이 최초 구매 후 재구매한 주문건수 분석 (구매일이 1일을 경과하지 않으면 재구매로 보지 않는다.)"
   ]
  },
  {
   "cell_type": "code",
   "execution_count": 3,
   "metadata": {},
   "outputs": [
    {
     "name": "stdout",
     "output_type": "stream",
     "text": [
      "재구매된 주문건수 :  2285 건 (구매일이 1일이상 경과하지 않으면 재구매로 보지 않는다.)\n"
     ]
    }
   ],
   "source": [
    "# 재구매 고객 현황 (order_id 중복 제외)\n",
    "df_re = pd.pivot_table(data=df, index='order_id', values=['customer_unique_id', 'purchase_date'], aggfunc='first')\n",
    "df_re.sort_values(by='purchase_date', ascending=True, inplace=True)\n",
    "\n",
    "# 고객별 최초 구매일 그룹핑\n",
    "result = df_re.groupby('customer_unique_id')['purchase_date'].min()\n",
    "\n",
    "# 재구매 여부 확인\n",
    "df_re['repurchase'] = df_re.apply(lambda row: \n",
    "                                  ((row['purchase_date'] - result[row['customer_unique_id']]).days >= 1) and\n",
    "                                  ((row['purchase_date'] - result[row['customer_unique_id']]).days <= 730), axis=1)\n",
    "\n",
    "print('재구매된 주문건수 : ', len(df_re[df_re['repurchase'] == True]), '건 (구매일이 1일이상 경과하지 않으면 재구매로 보지 않는다.)')"
   ]
  },
  {
   "cell_type": "code",
   "execution_count": 4,
   "metadata": {},
   "outputs": [
    {
     "data": {
      "application/vnd.plotly.v1+json": {
       "config": {
        "plotlyServerURL": "https://plot.ly"
       },
       "data": [
        {
         "alignmentgroup": "True",
         "hovertemplate": "카테고리=%{x}<br>주문건수=%{y}<extra></extra>",
         "legendgroup": "",
         "marker": {
          "color": "#636efa",
          "pattern": {
           "shape": ""
          }
         },
         "name": "",
         "offsetgroup": "",
         "orientation": "v",
         "showlegend": false,
         "textposition": "auto",
         "type": "bar",
         "x": [
          "bed_bath_table",
          "sports_leisure",
          "furniture_decor",
          "health_beauty",
          "housewares",
          "computers_accessories",
          "watches_gifts",
          "fashion_bags_accessories",
          "garden_tools",
          "toys",
          "telephony",
          "perfumery",
          "auto",
          "baby",
          "pet_shop",
          "cool_stuff",
          "stationery",
          "electronics",
          "construction_tools_construction",
          "luggage_accessories",
          "drinks",
          "home_construction",
          "office_furniture",
          "home_appliances",
          "food",
          "furniture_living_room",
          "consoles_games",
          "home_confort",
          "musical_instruments",
          "small_appliances",
          "food_drink",
          "kitchen_dining_laundry_garden_furniture",
          "agro_industry_and_commerce",
          "audio",
          "construction_tools_lights",
          "books_general_interest",
          "fashion_shoes",
          "construction_tools_safety",
          "diapers_and_hygiene",
          "costruction_tools_garden",
          "air_conditioning",
          "home_appliances_2",
          "fashio_female_clothing",
          "tablets_printing_image",
          "industry_commerce_and_business",
          "fixed_telephony",
          "costruction_tools_tools",
          "market_place",
          "dvds_blu_ray",
          "fashion_male_clothing",
          "art",
          "furniture_bedroom",
          "books_imported",
          "signaling_and_security",
          "books_technical",
          "christmas_supplies",
          "computers",
          "fashion_underwear_beach"
         ],
         "xaxis": "x",
         "y": [
          386,
          266,
          241,
          203,
          191,
          190,
          165,
          104,
          94,
          89,
          88,
          81,
          79,
          64,
          53,
          52,
          40,
          40,
          31,
          25,
          25,
          20,
          18,
          17,
          17,
          17,
          16,
          12,
          11,
          9,
          9,
          7,
          7,
          7,
          6,
          6,
          6,
          6,
          5,
          5,
          5,
          4,
          4,
          4,
          4,
          4,
          4,
          3,
          3,
          2,
          2,
          2,
          2,
          2,
          2,
          2,
          2,
          2
         ],
         "yaxis": "y"
        }
       ],
       "layout": {
        "barmode": "relative",
        "legend": {
         "tracegroupgap": 0
        },
        "template": {
         "data": {
          "bar": [
           {
            "error_x": {
             "color": "#2a3f5f"
            },
            "error_y": {
             "color": "#2a3f5f"
            },
            "marker": {
             "line": {
              "color": "#E5ECF6",
              "width": 0.5
             },
             "pattern": {
              "fillmode": "overlay",
              "size": 10,
              "solidity": 0.2
             }
            },
            "type": "bar"
           }
          ],
          "barpolar": [
           {
            "marker": {
             "line": {
              "color": "#E5ECF6",
              "width": 0.5
             },
             "pattern": {
              "fillmode": "overlay",
              "size": 10,
              "solidity": 0.2
             }
            },
            "type": "barpolar"
           }
          ],
          "carpet": [
           {
            "aaxis": {
             "endlinecolor": "#2a3f5f",
             "gridcolor": "white",
             "linecolor": "white",
             "minorgridcolor": "white",
             "startlinecolor": "#2a3f5f"
            },
            "baxis": {
             "endlinecolor": "#2a3f5f",
             "gridcolor": "white",
             "linecolor": "white",
             "minorgridcolor": "white",
             "startlinecolor": "#2a3f5f"
            },
            "type": "carpet"
           }
          ],
          "choropleth": [
           {
            "colorbar": {
             "outlinewidth": 0,
             "ticks": ""
            },
            "type": "choropleth"
           }
          ],
          "contour": [
           {
            "colorbar": {
             "outlinewidth": 0,
             "ticks": ""
            },
            "colorscale": [
             [
              0,
              "#0d0887"
             ],
             [
              0.1111111111111111,
              "#46039f"
             ],
             [
              0.2222222222222222,
              "#7201a8"
             ],
             [
              0.3333333333333333,
              "#9c179e"
             ],
             [
              0.4444444444444444,
              "#bd3786"
             ],
             [
              0.5555555555555556,
              "#d8576b"
             ],
             [
              0.6666666666666666,
              "#ed7953"
             ],
             [
              0.7777777777777778,
              "#fb9f3a"
             ],
             [
              0.8888888888888888,
              "#fdca26"
             ],
             [
              1,
              "#f0f921"
             ]
            ],
            "type": "contour"
           }
          ],
          "contourcarpet": [
           {
            "colorbar": {
             "outlinewidth": 0,
             "ticks": ""
            },
            "type": "contourcarpet"
           }
          ],
          "heatmap": [
           {
            "colorbar": {
             "outlinewidth": 0,
             "ticks": ""
            },
            "colorscale": [
             [
              0,
              "#0d0887"
             ],
             [
              0.1111111111111111,
              "#46039f"
             ],
             [
              0.2222222222222222,
              "#7201a8"
             ],
             [
              0.3333333333333333,
              "#9c179e"
             ],
             [
              0.4444444444444444,
              "#bd3786"
             ],
             [
              0.5555555555555556,
              "#d8576b"
             ],
             [
              0.6666666666666666,
              "#ed7953"
             ],
             [
              0.7777777777777778,
              "#fb9f3a"
             ],
             [
              0.8888888888888888,
              "#fdca26"
             ],
             [
              1,
              "#f0f921"
             ]
            ],
            "type": "heatmap"
           }
          ],
          "heatmapgl": [
           {
            "colorbar": {
             "outlinewidth": 0,
             "ticks": ""
            },
            "colorscale": [
             [
              0,
              "#0d0887"
             ],
             [
              0.1111111111111111,
              "#46039f"
             ],
             [
              0.2222222222222222,
              "#7201a8"
             ],
             [
              0.3333333333333333,
              "#9c179e"
             ],
             [
              0.4444444444444444,
              "#bd3786"
             ],
             [
              0.5555555555555556,
              "#d8576b"
             ],
             [
              0.6666666666666666,
              "#ed7953"
             ],
             [
              0.7777777777777778,
              "#fb9f3a"
             ],
             [
              0.8888888888888888,
              "#fdca26"
             ],
             [
              1,
              "#f0f921"
             ]
            ],
            "type": "heatmapgl"
           }
          ],
          "histogram": [
           {
            "marker": {
             "pattern": {
              "fillmode": "overlay",
              "size": 10,
              "solidity": 0.2
             }
            },
            "type": "histogram"
           }
          ],
          "histogram2d": [
           {
            "colorbar": {
             "outlinewidth": 0,
             "ticks": ""
            },
            "colorscale": [
             [
              0,
              "#0d0887"
             ],
             [
              0.1111111111111111,
              "#46039f"
             ],
             [
              0.2222222222222222,
              "#7201a8"
             ],
             [
              0.3333333333333333,
              "#9c179e"
             ],
             [
              0.4444444444444444,
              "#bd3786"
             ],
             [
              0.5555555555555556,
              "#d8576b"
             ],
             [
              0.6666666666666666,
              "#ed7953"
             ],
             [
              0.7777777777777778,
              "#fb9f3a"
             ],
             [
              0.8888888888888888,
              "#fdca26"
             ],
             [
              1,
              "#f0f921"
             ]
            ],
            "type": "histogram2d"
           }
          ],
          "histogram2dcontour": [
           {
            "colorbar": {
             "outlinewidth": 0,
             "ticks": ""
            },
            "colorscale": [
             [
              0,
              "#0d0887"
             ],
             [
              0.1111111111111111,
              "#46039f"
             ],
             [
              0.2222222222222222,
              "#7201a8"
             ],
             [
              0.3333333333333333,
              "#9c179e"
             ],
             [
              0.4444444444444444,
              "#bd3786"
             ],
             [
              0.5555555555555556,
              "#d8576b"
             ],
             [
              0.6666666666666666,
              "#ed7953"
             ],
             [
              0.7777777777777778,
              "#fb9f3a"
             ],
             [
              0.8888888888888888,
              "#fdca26"
             ],
             [
              1,
              "#f0f921"
             ]
            ],
            "type": "histogram2dcontour"
           }
          ],
          "mesh3d": [
           {
            "colorbar": {
             "outlinewidth": 0,
             "ticks": ""
            },
            "type": "mesh3d"
           }
          ],
          "parcoords": [
           {
            "line": {
             "colorbar": {
              "outlinewidth": 0,
              "ticks": ""
             }
            },
            "type": "parcoords"
           }
          ],
          "pie": [
           {
            "automargin": true,
            "type": "pie"
           }
          ],
          "scatter": [
           {
            "fillpattern": {
             "fillmode": "overlay",
             "size": 10,
             "solidity": 0.2
            },
            "type": "scatter"
           }
          ],
          "scatter3d": [
           {
            "line": {
             "colorbar": {
              "outlinewidth": 0,
              "ticks": ""
             }
            },
            "marker": {
             "colorbar": {
              "outlinewidth": 0,
              "ticks": ""
             }
            },
            "type": "scatter3d"
           }
          ],
          "scattercarpet": [
           {
            "marker": {
             "colorbar": {
              "outlinewidth": 0,
              "ticks": ""
             }
            },
            "type": "scattercarpet"
           }
          ],
          "scattergeo": [
           {
            "marker": {
             "colorbar": {
              "outlinewidth": 0,
              "ticks": ""
             }
            },
            "type": "scattergeo"
           }
          ],
          "scattergl": [
           {
            "marker": {
             "colorbar": {
              "outlinewidth": 0,
              "ticks": ""
             }
            },
            "type": "scattergl"
           }
          ],
          "scattermapbox": [
           {
            "marker": {
             "colorbar": {
              "outlinewidth": 0,
              "ticks": ""
             }
            },
            "type": "scattermapbox"
           }
          ],
          "scatterpolar": [
           {
            "marker": {
             "colorbar": {
              "outlinewidth": 0,
              "ticks": ""
             }
            },
            "type": "scatterpolar"
           }
          ],
          "scatterpolargl": [
           {
            "marker": {
             "colorbar": {
              "outlinewidth": 0,
              "ticks": ""
             }
            },
            "type": "scatterpolargl"
           }
          ],
          "scatterternary": [
           {
            "marker": {
             "colorbar": {
              "outlinewidth": 0,
              "ticks": ""
             }
            },
            "type": "scatterternary"
           }
          ],
          "surface": [
           {
            "colorbar": {
             "outlinewidth": 0,
             "ticks": ""
            },
            "colorscale": [
             [
              0,
              "#0d0887"
             ],
             [
              0.1111111111111111,
              "#46039f"
             ],
             [
              0.2222222222222222,
              "#7201a8"
             ],
             [
              0.3333333333333333,
              "#9c179e"
             ],
             [
              0.4444444444444444,
              "#bd3786"
             ],
             [
              0.5555555555555556,
              "#d8576b"
             ],
             [
              0.6666666666666666,
              "#ed7953"
             ],
             [
              0.7777777777777778,
              "#fb9f3a"
             ],
             [
              0.8888888888888888,
              "#fdca26"
             ],
             [
              1,
              "#f0f921"
             ]
            ],
            "type": "surface"
           }
          ],
          "table": [
           {
            "cells": {
             "fill": {
              "color": "#EBF0F8"
             },
             "line": {
              "color": "white"
             }
            },
            "header": {
             "fill": {
              "color": "#C8D4E3"
             },
             "line": {
              "color": "white"
             }
            },
            "type": "table"
           }
          ]
         },
         "layout": {
          "annotationdefaults": {
           "arrowcolor": "#2a3f5f",
           "arrowhead": 0,
           "arrowwidth": 1
          },
          "autotypenumbers": "strict",
          "coloraxis": {
           "colorbar": {
            "outlinewidth": 0,
            "ticks": ""
           }
          },
          "colorscale": {
           "diverging": [
            [
             0,
             "#8e0152"
            ],
            [
             0.1,
             "#c51b7d"
            ],
            [
             0.2,
             "#de77ae"
            ],
            [
             0.3,
             "#f1b6da"
            ],
            [
             0.4,
             "#fde0ef"
            ],
            [
             0.5,
             "#f7f7f7"
            ],
            [
             0.6,
             "#e6f5d0"
            ],
            [
             0.7,
             "#b8e186"
            ],
            [
             0.8,
             "#7fbc41"
            ],
            [
             0.9,
             "#4d9221"
            ],
            [
             1,
             "#276419"
            ]
           ],
           "sequential": [
            [
             0,
             "#0d0887"
            ],
            [
             0.1111111111111111,
             "#46039f"
            ],
            [
             0.2222222222222222,
             "#7201a8"
            ],
            [
             0.3333333333333333,
             "#9c179e"
            ],
            [
             0.4444444444444444,
             "#bd3786"
            ],
            [
             0.5555555555555556,
             "#d8576b"
            ],
            [
             0.6666666666666666,
             "#ed7953"
            ],
            [
             0.7777777777777778,
             "#fb9f3a"
            ],
            [
             0.8888888888888888,
             "#fdca26"
            ],
            [
             1,
             "#f0f921"
            ]
           ],
           "sequentialminus": [
            [
             0,
             "#0d0887"
            ],
            [
             0.1111111111111111,
             "#46039f"
            ],
            [
             0.2222222222222222,
             "#7201a8"
            ],
            [
             0.3333333333333333,
             "#9c179e"
            ],
            [
             0.4444444444444444,
             "#bd3786"
            ],
            [
             0.5555555555555556,
             "#d8576b"
            ],
            [
             0.6666666666666666,
             "#ed7953"
            ],
            [
             0.7777777777777778,
             "#fb9f3a"
            ],
            [
             0.8888888888888888,
             "#fdca26"
            ],
            [
             1,
             "#f0f921"
            ]
           ]
          },
          "colorway": [
           "#636efa",
           "#EF553B",
           "#00cc96",
           "#ab63fa",
           "#FFA15A",
           "#19d3f3",
           "#FF6692",
           "#B6E880",
           "#FF97FF",
           "#FECB52"
          ],
          "font": {
           "color": "#2a3f5f"
          },
          "geo": {
           "bgcolor": "white",
           "lakecolor": "white",
           "landcolor": "#E5ECF6",
           "showlakes": true,
           "showland": true,
           "subunitcolor": "white"
          },
          "hoverlabel": {
           "align": "left"
          },
          "hovermode": "closest",
          "mapbox": {
           "style": "light"
          },
          "paper_bgcolor": "white",
          "plot_bgcolor": "#E5ECF6",
          "polar": {
           "angularaxis": {
            "gridcolor": "white",
            "linecolor": "white",
            "ticks": ""
           },
           "bgcolor": "#E5ECF6",
           "radialaxis": {
            "gridcolor": "white",
            "linecolor": "white",
            "ticks": ""
           }
          },
          "scene": {
           "xaxis": {
            "backgroundcolor": "#E5ECF6",
            "gridcolor": "white",
            "gridwidth": 2,
            "linecolor": "white",
            "showbackground": true,
            "ticks": "",
            "zerolinecolor": "white"
           },
           "yaxis": {
            "backgroundcolor": "#E5ECF6",
            "gridcolor": "white",
            "gridwidth": 2,
            "linecolor": "white",
            "showbackground": true,
            "ticks": "",
            "zerolinecolor": "white"
           },
           "zaxis": {
            "backgroundcolor": "#E5ECF6",
            "gridcolor": "white",
            "gridwidth": 2,
            "linecolor": "white",
            "showbackground": true,
            "ticks": "",
            "zerolinecolor": "white"
           }
          },
          "shapedefaults": {
           "line": {
            "color": "#2a3f5f"
           }
          },
          "ternary": {
           "aaxis": {
            "gridcolor": "white",
            "linecolor": "white",
            "ticks": ""
           },
           "baxis": {
            "gridcolor": "white",
            "linecolor": "white",
            "ticks": ""
           },
           "bgcolor": "#E5ECF6",
           "caxis": {
            "gridcolor": "white",
            "linecolor": "white",
            "ticks": ""
           }
          },
          "title": {
           "x": 0.05
          },
          "xaxis": {
           "automargin": true,
           "gridcolor": "white",
           "linecolor": "white",
           "ticks": "",
           "title": {
            "standoff": 15
           },
           "zerolinecolor": "white",
           "zerolinewidth": 2
          },
          "yaxis": {
           "automargin": true,
           "gridcolor": "white",
           "linecolor": "white",
           "ticks": "",
           "title": {
            "standoff": 15
           },
           "zerolinecolor": "white",
           "zerolinewidth": 2
          }
         }
        },
        "title": {
         "text": "카테고리별 재구매 주문건수"
        },
        "xaxis": {
         "anchor": "y",
         "domain": [
          0,
          1
         ],
         "title": {
          "text": "카테고리"
         }
        },
        "yaxis": {
         "anchor": "x",
         "domain": [
          0,
          1
         ],
         "title": {
          "text": "주문건수"
         }
        }
       }
      }
     },
     "metadata": {},
     "output_type": "display_data"
    }
   ],
   "source": [
    "# 재구매 카테고리 현황 (재구매 대상 order_id만 필터링)\n",
    "df_re2 = df[df['order_id'].isin(df_re[df_re['repurchase'] == True].index)]\n",
    "\n",
    "# 재구매 카테고리 구매빈도\n",
    "df_re2 = pd.pivot_table(data=df_re2, index='category', values='customer_id', aggfunc='count')\n",
    "df_re2 = df_re2.sort_values(by='customer_id', ascending=False).rename(columns={'customer_id':'order_count'})\n",
    "df_re2 = df_re2[df_re2['order_count'] > 1]\n",
    "\n",
    "px.bar(df_re2, x=df_re2.index, y='order_count',\n",
    "       labels={\"category\":\"카테고리\",\"order_count\":\"주문건수\"}, \n",
    "       title='카테고리별 재구매 주문건수')"
   ]
  },
  {
   "cell_type": "code",
   "execution_count": 5,
   "metadata": {},
   "outputs": [],
   "source": [
    "df = pd.merge(df, df_re['repurchase'], on='order_id', how='left')"
   ]
  },
  {
   "cell_type": "markdown",
   "metadata": {},
   "source": [
    "---"
   ]
  },
  {
   "cell_type": "markdown",
   "metadata": {},
   "source": [
    "- 재구매 전환율이 가장 높은 카테고리는 'diapers_and_hygiene'로 15.15%의 재구매 전환율을 보였다.\n",
    "- 가장 재구매가 많은 카테고리는 'bed_bath_table'로 구매 수요도 많아서 최초 구매 건수도 많아 전환율은 약 3.6%를 보였다.\n",
    "- 전환율과 각 특성과의 상관계수가 낮은 것으로 보아, 최초 구매 카테고리와 동일한 카테고리의 제품을 재구매한다고 보기 어렵다.  "
   ]
  },
  {
   "cell_type": "code",
   "execution_count": 6,
   "metadata": {},
   "outputs": [
    {
     "data": {
      "text/html": [
       "<div>\n",
       "<style scoped>\n",
       "    .dataframe tbody tr th:only-of-type {\n",
       "        vertical-align: middle;\n",
       "    }\n",
       "\n",
       "    .dataframe tbody tr th {\n",
       "        vertical-align: top;\n",
       "    }\n",
       "\n",
       "    .dataframe thead th {\n",
       "        text-align: right;\n",
       "    }\n",
       "</style>\n",
       "<table border=\"1\" class=\"dataframe\">\n",
       "  <thead>\n",
       "    <tr style=\"text-align: right;\">\n",
       "      <th>repurchase</th>\n",
       "      <th>1st_purchase_cnt</th>\n",
       "      <th>re_purchase_cnt</th>\n",
       "      <th>conversion_rate</th>\n",
       "    </tr>\n",
       "    <tr>\n",
       "      <th>category</th>\n",
       "      <th></th>\n",
       "      <th></th>\n",
       "      <th></th>\n",
       "    </tr>\n",
       "  </thead>\n",
       "  <tbody>\n",
       "    <tr>\n",
       "      <th>diapers_and_hygiene</th>\n",
       "      <td>33</td>\n",
       "      <td>5</td>\n",
       "      <td>0.1515</td>\n",
       "    </tr>\n",
       "    <tr>\n",
       "      <th>fashio_female_clothing</th>\n",
       "      <td>44</td>\n",
       "      <td>4</td>\n",
       "      <td>0.0909</td>\n",
       "    </tr>\n",
       "    <tr>\n",
       "      <th>drinks</th>\n",
       "      <td>353</td>\n",
       "      <td>25</td>\n",
       "      <td>0.0708</td>\n",
       "    </tr>\n",
       "    <tr>\n",
       "      <th>fashion_bags_accessories</th>\n",
       "      <td>1921</td>\n",
       "      <td>104</td>\n",
       "      <td>0.0541</td>\n",
       "    </tr>\n",
       "    <tr>\n",
       "      <th>dvds_blu_ray</th>\n",
       "      <td>59</td>\n",
       "      <td>3</td>\n",
       "      <td>0.0508</td>\n",
       "    </tr>\n",
       "    <tr>\n",
       "      <th>tablets_printing_image</th>\n",
       "      <td>79</td>\n",
       "      <td>4</td>\n",
       "      <td>0.0506</td>\n",
       "    </tr>\n",
       "    <tr>\n",
       "      <th>arts_and_craftmanship</th>\n",
       "      <td>23</td>\n",
       "      <td>1</td>\n",
       "      <td>0.0435</td>\n",
       "    </tr>\n",
       "    <tr>\n",
       "      <th>costruction_tools_tools</th>\n",
       "      <td>99</td>\n",
       "      <td>4</td>\n",
       "      <td>0.0404</td>\n",
       "    </tr>\n",
       "    <tr>\n",
       "      <th>bed_bath_table</th>\n",
       "      <td>10711</td>\n",
       "      <td>386</td>\n",
       "      <td>0.0360</td>\n",
       "    </tr>\n",
       "    <tr>\n",
       "      <th>furniture_living_room</th>\n",
       "      <td>484</td>\n",
       "      <td>17</td>\n",
       "      <td>0.0351</td>\n",
       "    </tr>\n",
       "  </tbody>\n",
       "</table>\n",
       "</div>"
      ],
      "text/plain": [
       "repurchase                1st_purchase_cnt  re_purchase_cnt  conversion_rate\n",
       "category                                                                    \n",
       "diapers_and_hygiene                     33                5           0.1515\n",
       "fashio_female_clothing                  44                4           0.0909\n",
       "drinks                                 353               25           0.0708\n",
       "fashion_bags_accessories              1921              104           0.0541\n",
       "dvds_blu_ray                            59                3           0.0508\n",
       "tablets_printing_image                  79                4           0.0506\n",
       "arts_and_craftmanship                   23                1           0.0435\n",
       "costruction_tools_tools                 99                4           0.0404\n",
       "bed_bath_table                       10711              386           0.0360\n",
       "furniture_living_room                  484               17           0.0351"
      ]
     },
     "execution_count": 6,
     "metadata": {},
     "output_type": "execute_result"
    }
   ],
   "source": [
    "# 카테고리별 재구매 전환율이 높은 카테고리 분석\n",
    "df_re3 = pd.pivot_table(data=df, index='category', columns='repurchase', aggfunc='size', fill_value=0)\n",
    "df_re3['conversion_rate'] = round(df_re3[True] / df_re3[False], 4)\n",
    "df_re3.sort_values(by='conversion_rate', ascending=False, inplace=True)\n",
    "df_re3.rename(columns={True:'re_purchase_cnt', False:'1st_purchase_cnt'}, inplace=True)\n",
    "df_re3.head(10)"
   ]
  },
  {
   "cell_type": "code",
   "execution_count": 7,
   "metadata": {},
   "outputs": [
    {
     "data": {
      "text/html": [
       "<div>\n",
       "<style scoped>\n",
       "    .dataframe tbody tr th:only-of-type {\n",
       "        vertical-align: middle;\n",
       "    }\n",
       "\n",
       "    .dataframe tbody tr th {\n",
       "        vertical-align: top;\n",
       "    }\n",
       "\n",
       "    .dataframe thead th {\n",
       "        text-align: right;\n",
       "    }\n",
       "</style>\n",
       "<table border=\"1\" class=\"dataframe\">\n",
       "  <thead>\n",
       "    <tr style=\"text-align: right;\">\n",
       "      <th>repurchase</th>\n",
       "      <th>1st_purchase_cnt</th>\n",
       "      <th>re_purchase_cnt</th>\n",
       "      <th>conversion_rate</th>\n",
       "    </tr>\n",
       "    <tr>\n",
       "      <th>repurchase</th>\n",
       "      <th></th>\n",
       "      <th></th>\n",
       "      <th></th>\n",
       "    </tr>\n",
       "  </thead>\n",
       "  <tbody>\n",
       "    <tr>\n",
       "      <th>1st_purchase_cnt</th>\n",
       "      <td>1.000000</td>\n",
       "      <td>0.965378</td>\n",
       "      <td>0.012319</td>\n",
       "    </tr>\n",
       "    <tr>\n",
       "      <th>re_purchase_cnt</th>\n",
       "      <td>0.965378</td>\n",
       "      <td>1.000000</td>\n",
       "      <td>0.083423</td>\n",
       "    </tr>\n",
       "    <tr>\n",
       "      <th>conversion_rate</th>\n",
       "      <td>0.012319</td>\n",
       "      <td>0.083423</td>\n",
       "      <td>1.000000</td>\n",
       "    </tr>\n",
       "  </tbody>\n",
       "</table>\n",
       "</div>"
      ],
      "text/plain": [
       "repurchase        1st_purchase_cnt  re_purchase_cnt  conversion_rate\n",
       "repurchase                                                          \n",
       "1st_purchase_cnt          1.000000         0.965378         0.012319\n",
       "re_purchase_cnt           0.965378         1.000000         0.083423\n",
       "conversion_rate           0.012319         0.083423         1.000000"
      ]
     },
     "execution_count": 7,
     "metadata": {},
     "output_type": "execute_result"
    }
   ],
   "source": [
    "# 상관분석 결과\n",
    "df_re3.corr()"
   ]
  },
  {
   "cell_type": "markdown",
   "metadata": {},
   "source": [
    "- 최초구매 + 재구매 카테고리의 총 매출이 높은 상위 10개 카테고리\n",
    "- 마케팅 1회 비용에 대한 신규 고객 유입 관련 데이터가 없으나, 총 매출량이 높은 카테고리 위주의 마케팅을 진행하는 것이 효율적이다."
   ]
  },
  {
   "cell_type": "code",
   "execution_count": 8,
   "metadata": {},
   "outputs": [
    {
     "data": {
      "text/html": [
       "<div>\n",
       "<style scoped>\n",
       "    .dataframe tbody tr th:only-of-type {\n",
       "        vertical-align: middle;\n",
       "    }\n",
       "\n",
       "    .dataframe tbody tr th {\n",
       "        vertical-align: top;\n",
       "    }\n",
       "\n",
       "    .dataframe thead th {\n",
       "        text-align: right;\n",
       "    }\n",
       "</style>\n",
       "<table border=\"1\" class=\"dataframe\">\n",
       "  <thead>\n",
       "    <tr style=\"text-align: right;\">\n",
       "      <th></th>\n",
       "      <th>1st_purchase_cnt</th>\n",
       "      <th>re_purchase_cnt</th>\n",
       "      <th>conversion_rate</th>\n",
       "      <th>total_price</th>\n",
       "    </tr>\n",
       "    <tr>\n",
       "      <th>category</th>\n",
       "      <th></th>\n",
       "      <th></th>\n",
       "      <th></th>\n",
       "      <th></th>\n",
       "    </tr>\n",
       "  </thead>\n",
       "  <tbody>\n",
       "    <tr>\n",
       "      <th>health_beauty</th>\n",
       "      <td>9431</td>\n",
       "      <td>203</td>\n",
       "      <td>0.0215</td>\n",
       "      <td>1437665.78</td>\n",
       "    </tr>\n",
       "    <tr>\n",
       "      <th>watches_gifts</th>\n",
       "      <td>5805</td>\n",
       "      <td>165</td>\n",
       "      <td>0.0284</td>\n",
       "      <td>1298292.47</td>\n",
       "    </tr>\n",
       "    <tr>\n",
       "      <th>bed_bath_table</th>\n",
       "      <td>10711</td>\n",
       "      <td>386</td>\n",
       "      <td>0.0360</td>\n",
       "      <td>1240386.13</td>\n",
       "    </tr>\n",
       "    <tr>\n",
       "      <th>sports_leisure</th>\n",
       "      <td>8324</td>\n",
       "      <td>266</td>\n",
       "      <td>0.0320</td>\n",
       "      <td>1147244.63</td>\n",
       "    </tr>\n",
       "    <tr>\n",
       "      <th>computers_accessories</th>\n",
       "      <td>7591</td>\n",
       "      <td>190</td>\n",
       "      <td>0.0250</td>\n",
       "      <td>1050941.58</td>\n",
       "    </tr>\n",
       "    <tr>\n",
       "      <th>furniture_decor</th>\n",
       "      <td>8057</td>\n",
       "      <td>241</td>\n",
       "      <td>0.0299</td>\n",
       "      <td>899626.04</td>\n",
       "    </tr>\n",
       "    <tr>\n",
       "      <th>housewares</th>\n",
       "      <td>6724</td>\n",
       "      <td>191</td>\n",
       "      <td>0.0284</td>\n",
       "      <td>772035.14</td>\n",
       "    </tr>\n",
       "    <tr>\n",
       "      <th>cool_stuff</th>\n",
       "      <td>3728</td>\n",
       "      <td>52</td>\n",
       "      <td>0.0139</td>\n",
       "      <td>704176.47</td>\n",
       "    </tr>\n",
       "    <tr>\n",
       "      <th>auto</th>\n",
       "      <td>4126</td>\n",
       "      <td>79</td>\n",
       "      <td>0.0191</td>\n",
       "      <td>678652.60</td>\n",
       "    </tr>\n",
       "    <tr>\n",
       "      <th>garden_tools</th>\n",
       "      <td>4234</td>\n",
       "      <td>94</td>\n",
       "      <td>0.0222</td>\n",
       "      <td>579525.20</td>\n",
       "    </tr>\n",
       "  </tbody>\n",
       "</table>\n",
       "</div>"
      ],
      "text/plain": [
       "                       1st_purchase_cnt  re_purchase_cnt  conversion_rate  \\\n",
       "category                                                                    \n",
       "health_beauty                      9431              203           0.0215   \n",
       "watches_gifts                      5805              165           0.0284   \n",
       "bed_bath_table                    10711              386           0.0360   \n",
       "sports_leisure                     8324              266           0.0320   \n",
       "computers_accessories              7591              190           0.0250   \n",
       "furniture_decor                    8057              241           0.0299   \n",
       "housewares                         6724              191           0.0284   \n",
       "cool_stuff                         3728               52           0.0139   \n",
       "auto                               4126               79           0.0191   \n",
       "garden_tools                       4234               94           0.0222   \n",
       "\n",
       "                       total_price  \n",
       "category                            \n",
       "health_beauty           1437665.78  \n",
       "watches_gifts           1298292.47  \n",
       "bed_bath_table          1240386.13  \n",
       "sports_leisure          1147244.63  \n",
       "computers_accessories   1050941.58  \n",
       "furniture_decor          899626.04  \n",
       "housewares               772035.14  \n",
       "cool_stuff               704176.47  \n",
       "auto                     678652.60  \n",
       "garden_tools             579525.20  "
      ]
     },
     "execution_count": 8,
     "metadata": {},
     "output_type": "execute_result"
    }
   ],
   "source": [
    "# 품목별 매출 분석\n",
    "df_re4 = pd.pivot_table(data=df, index='category', values='total_price', aggfunc='sum')\n",
    "df_re4 = pd.merge(df_re3, df_re4, on='category', how='left')\n",
    "df_re4.sort_values(by='total_price', ascending=False).head(10)"
   ]
  },
  {
   "cell_type": "markdown",
   "metadata": {},
   "source": [
    "---"
   ]
  },
  {
   "cell_type": "markdown",
   "metadata": {},
   "source": [
    "### 3. CLV (Customer Lifetime Value, 고객생애가치)\n",
    "- CLV를 모델의 평가 기준으로 고려\n",
    "- 신규고객 유치 및 기존 고객 마케팅에 들어간 비용은 olist에서 확인이 어려우므로 무시\n",
    "- CLV = 평균구매액 × 평균구매빈도"
   ]
  },
  {
   "cell_type": "code",
   "execution_count": 9,
   "metadata": {},
   "outputs": [
    {
     "data": {
      "text/html": [
       "<div>\n",
       "<style scoped>\n",
       "    .dataframe tbody tr th:only-of-type {\n",
       "        vertical-align: middle;\n",
       "    }\n",
       "\n",
       "    .dataframe tbody tr th {\n",
       "        vertical-align: top;\n",
       "    }\n",
       "\n",
       "    .dataframe thead th {\n",
       "        text-align: right;\n",
       "    }\n",
       "</style>\n",
       "<table border=\"1\" class=\"dataframe\">\n",
       "  <thead>\n",
       "    <tr style=\"text-align: right;\">\n",
       "      <th></th>\n",
       "      <th>avg_purchase_cnt</th>\n",
       "      <th>avg_price</th>\n",
       "      <th>clv</th>\n",
       "      <th>customer_unique_id_cnt</th>\n",
       "      <th>total_price</th>\n",
       "    </tr>\n",
       "    <tr>\n",
       "      <th>year</th>\n",
       "      <th></th>\n",
       "      <th></th>\n",
       "      <th></th>\n",
       "      <th></th>\n",
       "      <th></th>\n",
       "    </tr>\n",
       "  </thead>\n",
       "  <tbody>\n",
       "    <tr>\n",
       "      <th>2016</th>\n",
       "      <td>1.226804</td>\n",
       "      <td>184.271993</td>\n",
       "      <td>226.065641</td>\n",
       "      <td>291</td>\n",
       "      <td>53623.15</td>\n",
       "    </tr>\n",
       "    <tr>\n",
       "      <th>2017</th>\n",
       "      <td>1.185096</td>\n",
       "      <td>166.028327</td>\n",
       "      <td>196.759486</td>\n",
       "      <td>42713</td>\n",
       "      <td>7091567.95</td>\n",
       "    </tr>\n",
       "    <tr>\n",
       "      <th>2018</th>\n",
       "      <td>1.175955</td>\n",
       "      <td>165.287610</td>\n",
       "      <td>194.370726</td>\n",
       "      <td>51985</td>\n",
       "      <td>8592476.42</td>\n",
       "    </tr>\n",
       "  </tbody>\n",
       "</table>\n",
       "</div>"
      ],
      "text/plain": [
       "      avg_purchase_cnt   avg_price         clv  customer_unique_id_cnt  \\\n",
       "year                                                                     \n",
       "2016          1.226804  184.271993  226.065641                     291   \n",
       "2017          1.185096  166.028327  196.759486                   42713   \n",
       "2018          1.175955  165.287610  194.370726                   51985   \n",
       "\n",
       "      total_price  \n",
       "year               \n",
       "2016     53623.15  \n",
       "2017   7091567.95  \n",
       "2018   8592476.42  "
      ]
     },
     "execution_count": 9,
     "metadata": {},
     "output_type": "execute_result"
    }
   ],
   "source": [
    "# olist에서 확인 가능한 데이터로 CLV를 산정\n",
    "df['year'] = df['purchase_date'].dt.year\n",
    "df_clv1 = pd.pivot_table(data=df, index='customer_unique_id', values=['total_price', 'year', 'order_id'], \n",
    "                         aggfunc={'total_price':'sum', 'year':'first', 'order_id':'count'})\n",
    "df_clv1.rename(columns={'order_id':'purchase_cnt'}, inplace=True)\n",
    "\n",
    "df_clv2 = pd.pivot_table(data=df_clv1, index='year', values=['total_price', 'purchase_cnt'], aggfunc='mean')\n",
    "df_clv2.rename(columns={'total_price':'avg_price', 'purchase_cnt':'avg_purchase_cnt'}, inplace=True)\n",
    "df_clv2['clv'] = df_clv2['avg_price'] * df_clv2['avg_purchase_cnt']\n",
    "\n",
    "df_clv3 = pd.pivot_table(data=df_clv1, index='year', values=['total_price', 'purchase_cnt'], aggfunc={'total_price':'sum', 'purchase_cnt':'count'})\n",
    "df_clv3.rename(columns={'purchase_cnt':'customer_unique_id_cnt'}, inplace=True)\n",
    "df_clv = pd.merge(df_clv2, df_clv3, on='year', how='left')\n",
    "df_clv"
   ]
  },
  {
   "cell_type": "markdown",
   "metadata": {},
   "source": [
    "- 연도별 CLV와 총매출을 분석한 결과, 고객생애가치(CLV)는 감소하고 있다.\n",
    "- 신규고객의 유입으로 총 매출은 증가하였으나, 고객별 평균 구매빈도와 구매금액이 감소하면서 고객생애가치(CLV)가 낮아졌다.\n",
    "- 재구매 가능성이 높은 고객을 찾아, 재구매 가능성이 높은 카테고리를 추천하여, 고객생애가치(CLV)를 개선해보자. "
   ]
  },
  {
   "cell_type": "markdown",
   "metadata": {},
   "source": [
    "---"
   ]
  },
  {
   "cell_type": "markdown",
   "metadata": {},
   "source": [
    "### 4. RFM 지표를 활용하여 고객 분류\n",
    "- RFM은 최근성(Recency) 고객의 구매빈도(Frequency) 고객의 구매금액(Monetary) 세 가지 변수를 측정한 지표\n",
    "- Customer_unique_id 기준으로 RFM 지표를 산정해보자.\n",
    "- RFM 지수 = a * 최근성(R) + b * 구매빈도(F) + c * 구매액(M) (abc는 각 항목에 대한 가중치)"
   ]
  },
  {
   "cell_type": "code",
   "execution_count": 10,
   "metadata": {},
   "outputs": [
    {
     "data": {
      "text/html": [
       "<div>\n",
       "<style scoped>\n",
       "    .dataframe tbody tr th:only-of-type {\n",
       "        vertical-align: middle;\n",
       "    }\n",
       "\n",
       "    .dataframe tbody tr th {\n",
       "        vertical-align: top;\n",
       "    }\n",
       "\n",
       "    .dataframe thead th {\n",
       "        text-align: right;\n",
       "    }\n",
       "</style>\n",
       "<table border=\"1\" class=\"dataframe\">\n",
       "  <thead>\n",
       "    <tr style=\"text-align: right;\">\n",
       "      <th></th>\n",
       "      <th>purchase_date</th>\n",
       "      <th>total_price</th>\n",
       "      <th>Frequency</th>\n",
       "      <th>s_recency</th>\n",
       "      <th>s_frequency</th>\n",
       "      <th>s_monetary</th>\n",
       "      <th>rev_contribution</th>\n",
       "      <th>rfm_score</th>\n",
       "    </tr>\n",
       "    <tr>\n",
       "      <th>customer_unique_id</th>\n",
       "      <th></th>\n",
       "      <th></th>\n",
       "      <th></th>\n",
       "      <th></th>\n",
       "      <th></th>\n",
       "      <th></th>\n",
       "      <th></th>\n",
       "      <th></th>\n",
       "    </tr>\n",
       "  </thead>\n",
       "  <tbody>\n",
       "    <tr>\n",
       "      <th>0000366f3b9a7992bf8c76cfdf3221e2</th>\n",
       "      <td>2018-05-10 10:56:27</td>\n",
       "      <td>141.90</td>\n",
       "      <td>1</td>\n",
       "      <td>0.840659</td>\n",
       "      <td>0.0</td>\n",
       "      <td>0.009690</td>\n",
       "      <td>0.000009</td>\n",
       "      <td>0.283450</td>\n",
       "    </tr>\n",
       "    <tr>\n",
       "      <th>0000b849f77a49e4a4ce2b2a4ca5be3f</th>\n",
       "      <td>2018-05-07 11:11:27</td>\n",
       "      <td>27.19</td>\n",
       "      <td>1</td>\n",
       "      <td>0.836538</td>\n",
       "      <td>0.0</td>\n",
       "      <td>0.001289</td>\n",
       "      <td>0.000002</td>\n",
       "      <td>0.279276</td>\n",
       "    </tr>\n",
       "    <tr>\n",
       "      <th>0000f46a3911fa3c0805444483337064</th>\n",
       "      <td>2017-03-10 21:05:03</td>\n",
       "      <td>86.22</td>\n",
       "      <td>1</td>\n",
       "      <td>0.255495</td>\n",
       "      <td>0.0</td>\n",
       "      <td>0.005612</td>\n",
       "      <td>0.000005</td>\n",
       "      <td>0.087036</td>\n",
       "    </tr>\n",
       "    <tr>\n",
       "      <th>0000f6ccb0745a6a4b88665a16c9f078</th>\n",
       "      <td>2017-10-12 20:29:41</td>\n",
       "      <td>43.62</td>\n",
       "      <td>1</td>\n",
       "      <td>0.552198</td>\n",
       "      <td>0.0</td>\n",
       "      <td>0.002492</td>\n",
       "      <td>0.000003</td>\n",
       "      <td>0.184897</td>\n",
       "    </tr>\n",
       "    <tr>\n",
       "      <th>0004aac84e0df4da2b147fca70cf8255</th>\n",
       "      <td>2017-11-14 19:45:42</td>\n",
       "      <td>196.89</td>\n",
       "      <td>1</td>\n",
       "      <td>0.597527</td>\n",
       "      <td>0.0</td>\n",
       "      <td>0.013717</td>\n",
       "      <td>0.000013</td>\n",
       "      <td>0.203748</td>\n",
       "    </tr>\n",
       "  </tbody>\n",
       "</table>\n",
       "</div>"
      ],
      "text/plain": [
       "                                       purchase_date  total_price  Frequency  \\\n",
       "customer_unique_id                                                             \n",
       "0000366f3b9a7992bf8c76cfdf3221e2 2018-05-10 10:56:27       141.90          1   \n",
       "0000b849f77a49e4a4ce2b2a4ca5be3f 2018-05-07 11:11:27        27.19          1   \n",
       "0000f46a3911fa3c0805444483337064 2017-03-10 21:05:03        86.22          1   \n",
       "0000f6ccb0745a6a4b88665a16c9f078 2017-10-12 20:29:41        43.62          1   \n",
       "0004aac84e0df4da2b147fca70cf8255 2017-11-14 19:45:42       196.89          1   \n",
       "\n",
       "                                  s_recency  s_frequency  s_monetary  \\\n",
       "customer_unique_id                                                     \n",
       "0000366f3b9a7992bf8c76cfdf3221e2   0.840659          0.0    0.009690   \n",
       "0000b849f77a49e4a4ce2b2a4ca5be3f   0.836538          0.0    0.001289   \n",
       "0000f46a3911fa3c0805444483337064   0.255495          0.0    0.005612   \n",
       "0000f6ccb0745a6a4b88665a16c9f078   0.552198          0.0    0.002492   \n",
       "0004aac84e0df4da2b147fca70cf8255   0.597527          0.0    0.013717   \n",
       "\n",
       "                                  rev_contribution  rfm_score  \n",
       "customer_unique_id                                             \n",
       "0000366f3b9a7992bf8c76cfdf3221e2          0.000009   0.283450  \n",
       "0000b849f77a49e4a4ce2b2a4ca5be3f          0.000002   0.279276  \n",
       "0000f46a3911fa3c0805444483337064          0.000005   0.087036  \n",
       "0000f6ccb0745a6a4b88665a16c9f078          0.000003   0.184897  \n",
       "0004aac84e0df4da2b147fca70cf8255          0.000013   0.203748  "
      ]
     },
     "execution_count": 10,
     "metadata": {},
     "output_type": "execute_result"
    }
   ],
   "source": [
    "# 중복되는 order_id를 제외하여 데이터 왜곡 최소화\n",
    "df_rfm = pd.pivot_table(data=df, index='order_id', values=['customer_unique_id', 'purchase_date', 'total_price', 'repurchase'], \n",
    "                        aggfunc={'customer_unique_id':'last', 'purchase_date':'max', 'total_price':'sum', 'repurchase':'last'})\n",
    "\n",
    "# RM 지표 산정에 필요한 데이터 pivot\n",
    "df_rm = pd.pivot_table(data=df_rfm, index='customer_unique_id', values=['purchase_date', 'total_price'], \n",
    "                        aggfunc={'purchase_date':'max', 'total_price':'sum'})\n",
    "\n",
    "# F 지표 산정에 필요한 데이터 pivot\n",
    "df_f = pd.pivot_table(data=df_rfm, index='customer_unique_id', columns='repurchase', aggfunc='size', fill_value=0)\n",
    "df_f['Frequency'] = df_f[True] + 1\n",
    "\n",
    "# RFM 각 지표 데이터를 통합\n",
    "df_rfm = pd.merge(df_rm, df_f['Frequency'], on='customer_unique_id', how='left')\n",
    "\n",
    "# RFM 각 지표를 min-max scaler로 정규화\n",
    "df_rfm['s_recency'] = (df_rfm['purchase_date'] - df_rfm['purchase_date'].min()).dt.days / (df_rfm['purchase_date'].max() - df_rfm['purchase_date'].min()).days\n",
    "df_rfm['s_frequency'] = (df_rfm['Frequency'] - df_rfm['Frequency'].min()) / (df_rfm['Frequency'].max() - df_rfm['Frequency'].min())\n",
    "df_rfm['s_monetary'] = (df_rfm['total_price'] - df_rfm['total_price'].min()) / (df_rfm['total_price'].max() - df_rfm['total_price'].min())\n",
    "\n",
    "df_rfm['rev_contribution'] = df_rfm['total_price'] / df_rfm['total_price'].sum()\n",
    "df_rfm['rfm_score'] = (df_rfm['s_frequency'] + df_rfm['s_recency'] + df_rfm['s_monetary'])/3\n",
    "\n",
    "df_rfm.head()"
   ]
  },
  {
   "cell_type": "code",
   "execution_count": 11,
   "metadata": {},
   "outputs": [
    {
     "data": {
      "text/plain": [
       "array([1.78625627e-21, 4.06575815e-20, 8.67631114e-04])"
      ]
     },
     "execution_count": 11,
     "metadata": {},
     "output_type": "execute_result"
    }
   ],
   "source": [
    "# 선형회귀를 통해 매출기여도에 따른 스코어링이 가능한지 확인해보자.\n",
    "# 선형회귀를 통해 도출된 독립변수 각 계수를 통해 각 RFM 특성이 얼마나 영향을 주는지 확인하자.\n",
    "\n",
    "from sklearn.model_selection import train_test_split\n",
    "from sklearn.linear_model import LinearRegression\n",
    "from sklearn.metrics import mean_squared_error\n",
    "\n",
    "X = df_rfm[['s_recency', 's_frequency', 's_monetary']]\n",
    "y = df_rfm['rev_contribution']\n",
    "\n",
    "X_train, X_test, y_train, y_test = train_test_split(X, y, test_size=0.2, random_state=13)\n",
    "\n",
    "model = LinearRegression()\n",
    "model.fit(X_train, y_train)\n",
    "\n",
    "y_pred = model.predict(X_test)\n",
    "mse = mean_squared_error(y_test, y_pred)\n",
    "\n",
    "# 독립변수의 각 특성에 대한 계수\n",
    "coef = model.coef_\n",
    "coef"
   ]
  },
  {
   "cell_type": "markdown",
   "metadata": {},
   "source": [
    "- 회귀 분석을 통해 RFM 지수를 분석한 결과, 현재 최근성(R)과 구매빈도(F)가 매출기여도에 미치는 영향은 미미했다.\n",
    "- 그러므로 RFM 각 Feature Score를 통해 고객을 분류하고 해당 Score에 따른 적절한 마케팅을 진행할 수 있도록 해야겠다."
   ]
  },
  {
   "cell_type": "markdown",
   "metadata": {},
   "source": [
    "---"
   ]
  },
  {
   "cell_type": "markdown",
   "metadata": {},
   "source": [
    "### 5. 최종 고객별 데이터셋을 통해 머신러닝 모델 구현 테스트 진행"
   ]
  },
  {
   "cell_type": "code",
   "execution_count": 15,
   "metadata": {},
   "outputs": [
    {
     "data": {
      "text/html": [
       "<div>\n",
       "<style scoped>\n",
       "    .dataframe tbody tr th:only-of-type {\n",
       "        vertical-align: middle;\n",
       "    }\n",
       "\n",
       "    .dataframe tbody tr th {\n",
       "        vertical-align: top;\n",
       "    }\n",
       "\n",
       "    .dataframe thead th {\n",
       "        text-align: right;\n",
       "    }\n",
       "</style>\n",
       "<table border=\"1\" class=\"dataframe\">\n",
       "  <thead>\n",
       "    <tr style=\"text-align: right;\">\n",
       "      <th></th>\n",
       "      <th>total_price</th>\n",
       "      <th>Frequency</th>\n",
       "      <th>s_recency</th>\n",
       "      <th>s_frequency</th>\n",
       "      <th>s_monetary</th>\n",
       "      <th>rev_contribution</th>\n",
       "      <th>rfm_score</th>\n",
       "      <th>first_category</th>\n",
       "      <th>customer_city</th>\n",
       "      <th>customer_state</th>\n",
       "      <th>avg_esti_delivery_period</th>\n",
       "      <th>Frequency_TF</th>\n",
       "    </tr>\n",
       "    <tr>\n",
       "      <th>customer_unique_id</th>\n",
       "      <th></th>\n",
       "      <th></th>\n",
       "      <th></th>\n",
       "      <th></th>\n",
       "      <th></th>\n",
       "      <th></th>\n",
       "      <th></th>\n",
       "      <th></th>\n",
       "      <th></th>\n",
       "      <th></th>\n",
       "      <th></th>\n",
       "      <th></th>\n",
       "    </tr>\n",
       "  </thead>\n",
       "  <tbody>\n",
       "    <tr>\n",
       "      <th>0000366f3b9a7992bf8c76cfdf3221e2</th>\n",
       "      <td>141.90</td>\n",
       "      <td>1</td>\n",
       "      <td>0.840659</td>\n",
       "      <td>0.0</td>\n",
       "      <td>0.009690</td>\n",
       "      <td>0.000009</td>\n",
       "      <td>0.283450</td>\n",
       "      <td>bed_bath_table</td>\n",
       "      <td>cajamar</td>\n",
       "      <td>SP</td>\n",
       "      <td>11.0</td>\n",
       "      <td>False</td>\n",
       "    </tr>\n",
       "    <tr>\n",
       "      <th>0000b849f77a49e4a4ce2b2a4ca5be3f</th>\n",
       "      <td>27.19</td>\n",
       "      <td>1</td>\n",
       "      <td>0.836538</td>\n",
       "      <td>0.0</td>\n",
       "      <td>0.001289</td>\n",
       "      <td>0.000002</td>\n",
       "      <td>0.279276</td>\n",
       "      <td>health_beauty</td>\n",
       "      <td>osasco</td>\n",
       "      <td>SP</td>\n",
       "      <td>8.0</td>\n",
       "      <td>False</td>\n",
       "    </tr>\n",
       "    <tr>\n",
       "      <th>0000f46a3911fa3c0805444483337064</th>\n",
       "      <td>86.22</td>\n",
       "      <td>1</td>\n",
       "      <td>0.255495</td>\n",
       "      <td>0.0</td>\n",
       "      <td>0.005612</td>\n",
       "      <td>0.000005</td>\n",
       "      <td>0.087036</td>\n",
       "      <td>stationery</td>\n",
       "      <td>sao jose</td>\n",
       "      <td>SC</td>\n",
       "      <td>28.0</td>\n",
       "      <td>False</td>\n",
       "    </tr>\n",
       "    <tr>\n",
       "      <th>0000f6ccb0745a6a4b88665a16c9f078</th>\n",
       "      <td>43.62</td>\n",
       "      <td>1</td>\n",
       "      <td>0.552198</td>\n",
       "      <td>0.0</td>\n",
       "      <td>0.002492</td>\n",
       "      <td>0.000003</td>\n",
       "      <td>0.184897</td>\n",
       "      <td>telephony</td>\n",
       "      <td>belem</td>\n",
       "      <td>PA</td>\n",
       "      <td>32.0</td>\n",
       "      <td>False</td>\n",
       "    </tr>\n",
       "    <tr>\n",
       "      <th>0004aac84e0df4da2b147fca70cf8255</th>\n",
       "      <td>196.89</td>\n",
       "      <td>1</td>\n",
       "      <td>0.597527</td>\n",
       "      <td>0.0</td>\n",
       "      <td>0.013717</td>\n",
       "      <td>0.000013</td>\n",
       "      <td>0.203748</td>\n",
       "      <td>telephony</td>\n",
       "      <td>sorocaba</td>\n",
       "      <td>SP</td>\n",
       "      <td>21.0</td>\n",
       "      <td>False</td>\n",
       "    </tr>\n",
       "    <tr>\n",
       "      <th>...</th>\n",
       "      <td>...</td>\n",
       "      <td>...</td>\n",
       "      <td>...</td>\n",
       "      <td>...</td>\n",
       "      <td>...</td>\n",
       "      <td>...</td>\n",
       "      <td>...</td>\n",
       "      <td>...</td>\n",
       "      <td>...</td>\n",
       "      <td>...</td>\n",
       "      <td>...</td>\n",
       "      <td>...</td>\n",
       "    </tr>\n",
       "    <tr>\n",
       "      <th>fffcf5a5ff07b0908bd4e2dbc735a684</th>\n",
       "      <td>2067.42</td>\n",
       "      <td>1</td>\n",
       "      <td>0.379121</td>\n",
       "      <td>0.0</td>\n",
       "      <td>0.150707</td>\n",
       "      <td>0.000131</td>\n",
       "      <td>0.176609</td>\n",
       "      <td>health_beauty</td>\n",
       "      <td>sanharo</td>\n",
       "      <td>PE</td>\n",
       "      <td>55.0</td>\n",
       "      <td>False</td>\n",
       "    </tr>\n",
       "    <tr>\n",
       "      <th>fffea47cd6d3cc0a88bd621562a9d061</th>\n",
       "      <td>84.58</td>\n",
       "      <td>1</td>\n",
       "      <td>0.633242</td>\n",
       "      <td>0.0</td>\n",
       "      <td>0.005492</td>\n",
       "      <td>0.000005</td>\n",
       "      <td>0.212911</td>\n",
       "      <td>baby</td>\n",
       "      <td>feira de santana</td>\n",
       "      <td>BA</td>\n",
       "      <td>33.0</td>\n",
       "      <td>False</td>\n",
       "    </tr>\n",
       "    <tr>\n",
       "      <th>ffff371b4d645b6ecea244b27531430a</th>\n",
       "      <td>112.46</td>\n",
       "      <td>1</td>\n",
       "      <td>0.212912</td>\n",
       "      <td>0.0</td>\n",
       "      <td>0.007534</td>\n",
       "      <td>0.000007</td>\n",
       "      <td>0.073482</td>\n",
       "      <td>auto</td>\n",
       "      <td>sinop</td>\n",
       "      <td>MT</td>\n",
       "      <td>45.0</td>\n",
       "      <td>False</td>\n",
       "    </tr>\n",
       "    <tr>\n",
       "      <th>ffff5962728ec6157033ef9805bacc48</th>\n",
       "      <td>133.69</td>\n",
       "      <td>1</td>\n",
       "      <td>0.829670</td>\n",
       "      <td>0.0</td>\n",
       "      <td>0.009089</td>\n",
       "      <td>0.000008</td>\n",
       "      <td>0.279586</td>\n",
       "      <td>watches_gifts</td>\n",
       "      <td>bom jesus do norte</td>\n",
       "      <td>ES</td>\n",
       "      <td>26.0</td>\n",
       "      <td>False</td>\n",
       "    </tr>\n",
       "    <tr>\n",
       "      <th>ffffd2657e2aad2907e67c3e9daecbeb</th>\n",
       "      <td>71.56</td>\n",
       "      <td>1</td>\n",
       "      <td>0.328297</td>\n",
       "      <td>0.0</td>\n",
       "      <td>0.004538</td>\n",
       "      <td>0.000005</td>\n",
       "      <td>0.110945</td>\n",
       "      <td>perfumery</td>\n",
       "      <td>campo largo</td>\n",
       "      <td>PR</td>\n",
       "      <td>24.0</td>\n",
       "      <td>False</td>\n",
       "    </tr>\n",
       "  </tbody>\n",
       "</table>\n",
       "<p>94989 rows × 12 columns</p>\n",
       "</div>"
      ],
      "text/plain": [
       "                                  total_price  Frequency  s_recency  \\\n",
       "customer_unique_id                                                    \n",
       "0000366f3b9a7992bf8c76cfdf3221e2       141.90          1   0.840659   \n",
       "0000b849f77a49e4a4ce2b2a4ca5be3f        27.19          1   0.836538   \n",
       "0000f46a3911fa3c0805444483337064        86.22          1   0.255495   \n",
       "0000f6ccb0745a6a4b88665a16c9f078        43.62          1   0.552198   \n",
       "0004aac84e0df4da2b147fca70cf8255       196.89          1   0.597527   \n",
       "...                                       ...        ...        ...   \n",
       "fffcf5a5ff07b0908bd4e2dbc735a684      2067.42          1   0.379121   \n",
       "fffea47cd6d3cc0a88bd621562a9d061        84.58          1   0.633242   \n",
       "ffff371b4d645b6ecea244b27531430a       112.46          1   0.212912   \n",
       "ffff5962728ec6157033ef9805bacc48       133.69          1   0.829670   \n",
       "ffffd2657e2aad2907e67c3e9daecbeb        71.56          1   0.328297   \n",
       "\n",
       "                                  s_frequency  s_monetary  rev_contribution  \\\n",
       "customer_unique_id                                                            \n",
       "0000366f3b9a7992bf8c76cfdf3221e2          0.0    0.009690          0.000009   \n",
       "0000b849f77a49e4a4ce2b2a4ca5be3f          0.0    0.001289          0.000002   \n",
       "0000f46a3911fa3c0805444483337064          0.0    0.005612          0.000005   \n",
       "0000f6ccb0745a6a4b88665a16c9f078          0.0    0.002492          0.000003   \n",
       "0004aac84e0df4da2b147fca70cf8255          0.0    0.013717          0.000013   \n",
       "...                                       ...         ...               ...   \n",
       "fffcf5a5ff07b0908bd4e2dbc735a684          0.0    0.150707          0.000131   \n",
       "fffea47cd6d3cc0a88bd621562a9d061          0.0    0.005492          0.000005   \n",
       "ffff371b4d645b6ecea244b27531430a          0.0    0.007534          0.000007   \n",
       "ffff5962728ec6157033ef9805bacc48          0.0    0.009089          0.000008   \n",
       "ffffd2657e2aad2907e67c3e9daecbeb          0.0    0.004538          0.000005   \n",
       "\n",
       "                                  rfm_score  first_category  \\\n",
       "customer_unique_id                                            \n",
       "0000366f3b9a7992bf8c76cfdf3221e2   0.283450  bed_bath_table   \n",
       "0000b849f77a49e4a4ce2b2a4ca5be3f   0.279276   health_beauty   \n",
       "0000f46a3911fa3c0805444483337064   0.087036      stationery   \n",
       "0000f6ccb0745a6a4b88665a16c9f078   0.184897       telephony   \n",
       "0004aac84e0df4da2b147fca70cf8255   0.203748       telephony   \n",
       "...                                     ...             ...   \n",
       "fffcf5a5ff07b0908bd4e2dbc735a684   0.176609   health_beauty   \n",
       "fffea47cd6d3cc0a88bd621562a9d061   0.212911            baby   \n",
       "ffff371b4d645b6ecea244b27531430a   0.073482            auto   \n",
       "ffff5962728ec6157033ef9805bacc48   0.279586   watches_gifts   \n",
       "ffffd2657e2aad2907e67c3e9daecbeb   0.110945       perfumery   \n",
       "\n",
       "                                       customer_city customer_state  \\\n",
       "customer_unique_id                                                    \n",
       "0000366f3b9a7992bf8c76cfdf3221e2             cajamar             SP   \n",
       "0000b849f77a49e4a4ce2b2a4ca5be3f              osasco             SP   \n",
       "0000f46a3911fa3c0805444483337064            sao jose             SC   \n",
       "0000f6ccb0745a6a4b88665a16c9f078               belem             PA   \n",
       "0004aac84e0df4da2b147fca70cf8255            sorocaba             SP   \n",
       "...                                              ...            ...   \n",
       "fffcf5a5ff07b0908bd4e2dbc735a684             sanharo             PE   \n",
       "fffea47cd6d3cc0a88bd621562a9d061    feira de santana             BA   \n",
       "ffff371b4d645b6ecea244b27531430a               sinop             MT   \n",
       "ffff5962728ec6157033ef9805bacc48  bom jesus do norte             ES   \n",
       "ffffd2657e2aad2907e67c3e9daecbeb         campo largo             PR   \n",
       "\n",
       "                                  avg_esti_delivery_period  Frequency_TF  \n",
       "customer_unique_id                                                        \n",
       "0000366f3b9a7992bf8c76cfdf3221e2                      11.0         False  \n",
       "0000b849f77a49e4a4ce2b2a4ca5be3f                       8.0         False  \n",
       "0000f46a3911fa3c0805444483337064                      28.0         False  \n",
       "0000f6ccb0745a6a4b88665a16c9f078                      32.0         False  \n",
       "0004aac84e0df4da2b147fca70cf8255                      21.0         False  \n",
       "...                                                    ...           ...  \n",
       "fffcf5a5ff07b0908bd4e2dbc735a684                      55.0         False  \n",
       "fffea47cd6d3cc0a88bd621562a9d061                      33.0         False  \n",
       "ffff371b4d645b6ecea244b27531430a                      45.0         False  \n",
       "ffff5962728ec6157033ef9805bacc48                      26.0         False  \n",
       "ffffd2657e2aad2907e67c3e9daecbeb                      24.0         False  \n",
       "\n",
       "[94989 rows x 12 columns]"
      ]
     },
     "execution_count": 15,
     "metadata": {},
     "output_type": "execute_result"
    }
   ],
   "source": [
    "df_add = pd.pivot_table(data=df, index='customer_unique_id', values=['category', 'customer_city', 'customer_state', 'estimated_delivery_period'], \n",
    "                        aggfunc={'category':'first', 'customer_city':'last', 'customer_state':'last', 'estimated_delivery_period':'mean'})\n",
    "df_add.rename(columns={'category':'first_category', 'estimated_delivery_period':'avg_esti_delivery_period'}, inplace=True)\n",
    "\n",
    "df_final = pd.merge(df_rfm, df_add, on='customer_unique_id', how='left')\n",
    "df_final['Frequency_TF'] = df_final['Frequency'] > 1\n",
    "df_final.drop(columns='purchase_date', inplace=True)\n",
    "df_final"
   ]
  },
  {
   "cell_type": "code",
   "execution_count": 34,
   "metadata": {},
   "outputs": [
    {
     "name": "stdout",
     "output_type": "stream",
     "text": [
      "[0.29447967 0.01956983 0.14557404 0.5136481  0.02672835]\n"
     ]
    }
   ],
   "source": [
    "from sklearn.tree import DecisionTreeClassifier\n",
    "from sklearn.metrics import accuracy_score\n",
    "from sklearn.model_selection import train_test_split\n",
    "\n",
    "X = df_final[df_final['Frequency_TF'] == True][['total_price', 's_recency', 'rev_contribution', 's_monetary', 'avg_esti_delivery_period']]  # 모델 특성값\n",
    "y = df_final[df_final['Frequency_TF'] == True][['Frequency']]\n",
    "\n",
    "X_train, X_test, y_train, y_test = train_test_split(X, y, test_size=0.2, random_state=13)\n",
    "\n",
    "dt = DecisionTreeClassifier(max_depth=4, random_state=13)\n",
    "dt.fit(X_train, y_train)\n",
    "\n",
    "y_pred = dt.predict(X_test)  \n",
    "accuracy_score(y_test, y_pred)\n",
    "\n",
    "feature_im = dt.feature_importances_\n",
    "print(feature_im)"
   ]
  }
 ],
 "metadata": {
  "kernelspec": {
   "display_name": "ds_study",
   "language": "python",
   "name": "python3"
  },
  "language_info": {
   "codemirror_mode": {
    "name": "ipython",
    "version": 3
   },
   "file_extension": ".py",
   "mimetype": "text/x-python",
   "name": "python",
   "nbconvert_exporter": "python",
   "pygments_lexer": "ipython3",
   "version": "3.8.18"
  }
 },
 "nbformat": 4,
 "nbformat_minor": 2
}
